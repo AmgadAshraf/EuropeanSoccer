{
 "cells": [
  {
   "cell_type": "code",
   "execution_count": 6,
   "metadata": {},
   "outputs": [
    {
     "name": "stdout",
     "output_type": "stream",
     "text": [
      "Database created and Successfully Connected to SQLite\n"
     ]
    }
   ],
   "source": [
    "import sqlite3\n",
    "import pandas as pd\n",
    "\n",
    "try:\n",
    "    sqliteConnection = sqlite3.connect('database.sqlite')\n",
    "    cursor = sqliteConnection.cursor()\n",
    "    print(\"Database created and Successfully Connected to SQLite\")\n",
    "except sqlite3.Error as error:\n",
    "    print(\"Error while connecting to sqlite\", error)"
   ]
  },
  {
   "cell_type": "code",
   "execution_count": 7,
   "metadata": {},
   "outputs": [
    {
     "name": "stdout",
     "output_type": "stream",
     "text": [
      "25979\n"
     ]
    }
   ],
   "source": [
    "query = \"\"\"SELECT * from Match\"\"\"\n",
    "cursor.execute(query)\n",
    "records = cursor.fetchall()\n",
    "print(len(records))\n",
    " "
   ]
  },
  {
   "cell_type": "code",
   "execution_count": null,
   "metadata": {},
   "outputs": [],
   "source": []
  }
 ],
 "metadata": {
  "kernelspec": {
   "display_name": "Python 3",
   "language": "python",
   "name": "python3"
  },
  "language_info": {
   "codemirror_mode": {
    "name": "ipython",
    "version": 3
   },
   "file_extension": ".py",
   "mimetype": "text/x-python",
   "name": "python",
   "nbconvert_exporter": "python",
   "pygments_lexer": "ipython3",
   "version": "3.7.3"
  }
 },
 "nbformat": 4,
 "nbformat_minor": 2
}
