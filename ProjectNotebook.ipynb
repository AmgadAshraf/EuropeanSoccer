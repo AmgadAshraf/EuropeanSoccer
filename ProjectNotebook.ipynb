{
 "cells": [
  {
   "cell_type": "markdown",
   "metadata": {},
   "source": [
    "### Connecting to the European Soccer Database"
   ]
  },
  {
   "cell_type": "code",
   "execution_count": 1,
   "metadata": {},
   "outputs": [
    {
     "name": "stdout",
     "output_type": "stream",
     "text": [
      "Database created and Successfully Connected to SQLite\n"
     ]
    }
   ],
   "source": [
    "import sqlite3\n",
    "import pandas as pd\n",
    "import numpy as np\n",
    "import datetime\n",
    "\n",
    "try:\n",
    "    sqliteConnection = sqlite3.connect('database.sqlite')\n",
    "    #cursor = sqliteConnection.cursor()\n",
    "    print(\"Database created and Successfully Connected to SQLite\")\n",
    "except sqlite3.Error as error:\n",
    "    print(\"Error while connecting to sqlite\", error)"
   ]
  },
  {
   "cell_type": "markdown",
   "metadata": {},
   "source": [
    "### Populating the 7 tables in the database to 7 Pandas Dataframes"
   ]
  },
  {
   "cell_type": "code",
   "execution_count": 2,
   "metadata": {},
   "outputs": [],
   "source": [
    "country_query = \"SELECT * from Country\"\n",
    "country_df = pd.read_sql_query(country_query, sqliteConnection)\n",
    "\n",
    "league_query = \"SELECT * from League\"\n",
    "league_df = pd.read_sql_query(league_query, sqliteConnection)\n",
    "\n",
    "match_query = \"SELECT * from Match\"\n",
    "match_df = pd.read_sql_query(match_query, sqliteConnection)\n",
    "\n",
    "player_query = \"SELECT * from Player\"\n",
    "player_df = pd.read_sql_query(player_query, sqliteConnection)\n",
    "\n",
    "playerAttributes_query = \"SELECT * from Player_Attributes\"\n",
    "playerAttributes_df = pd.read_sql_query(playerAttributes_query, sqliteConnection)\n",
    "\n",
    "team_query = \"SELECT * from Team\"\n",
    "team_df = pd.read_sql_query(team_query, sqliteConnection)\n",
    "\n",
    "teamAttributes_query = \"SELECT * from Team_Attributes\"\n",
    "teamAttributes_df = pd.read_sql_query(teamAttributes_query, sqliteConnection)"
   ]
  },
  {
   "cell_type": "markdown",
   "metadata": {},
   "source": [
    "### Cleaning the Country Dataframe"
   ]
  },
  {
   "cell_type": "code",
   "execution_count": 3,
   "metadata": {},
   "outputs": [],
   "source": [
    "del country_df['id']\n",
    "country_df.insert(0, 'Country_id', range(1, len(country_df)+1))\n",
    "country_df = country_df.rename(columns={\"name\": \"Country_Name\"})\n",
    "#country_df"
   ]
  },
  {
   "cell_type": "markdown",
   "metadata": {},
   "source": [
    "### Cleaning the League Dataframe"
   ]
  },
  {
   "cell_type": "code",
   "execution_count": 4,
   "metadata": {},
   "outputs": [],
   "source": [
    "del league_df['id']\n",
    "del league_df['country_id']\n",
    "league_df.insert(0, 'League_id', range(1, len(league_df)+1))\n",
    "league_df = league_df.rename(columns={\"name\": \"League_Name\"})\n",
    "#league_df"
   ]
  },
  {
   "cell_type": "markdown",
   "metadata": {},
   "source": [
    "### Cleaning the Match Dataframe"
   ]
  },
  {
   "cell_type": "code",
   "execution_count": 5,
   "metadata": {},
   "outputs": [],
   "source": [
    "match_df = match_df.rename(columns={\"id\": \"Match_id\"})\n",
    "\n",
    "#Replacing the old country_id values with the Country_Name values for better readability\n",
    "match_df['country_id'] = match_df['country_id'].replace(1,'Belgium')\n",
    "match_df['country_id'] = match_df['country_id'].replace(1729,'England')\n",
    "match_df['country_id'] = match_df['country_id'].replace(4769,'France')\n",
    "match_df['country_id'] = match_df['country_id'].replace(7809,'Germany')\n",
    "match_df['country_id'] = match_df['country_id'].replace(10257,'Italy')\n",
    "match_df['country_id'] = match_df['country_id'].replace(13274,'Netherlands')\n",
    "match_df['country_id'] = match_df['country_id'].replace(15722,'Poland')\n",
    "match_df['country_id'] = match_df['country_id'].replace(17642,'Portugal')\n",
    "match_df['country_id'] = match_df['country_id'].replace(19694,'Scotland')\n",
    "match_df['country_id'] = match_df['country_id'].replace(21518,'Spain')\n",
    "match_df['country_id'] = match_df['country_id'].replace(24558,'Switzerland')\n",
    "match_df = match_df.rename(columns={\"country_id\": \"Country_Name\"})\n",
    "\n",
    "#Replacing the old league_id values with the League_Name values for better readability\n",
    "match_df['league_id'] = match_df['league_id'].replace(1,'Belgium Jupiler League')\n",
    "match_df['league_id'] = match_df['league_id'].replace(1729,'England Premier League')\n",
    "match_df['league_id'] = match_df['league_id'].replace(4769,'France Ligue 1')\n",
    "match_df['league_id'] = match_df['league_id'].replace(7809,'Germany 1. Bundesliga')\n",
    "match_df['league_id'] = match_df['league_id'].replace(10257,'Italy Serie A')\n",
    "match_df['league_id'] = match_df['league_id'].replace(13274,'Netherlands Eredivisie')\n",
    "match_df['league_id'] = match_df['league_id'].replace(15722,'Poland Ekstraklasa')\n",
    "match_df['league_id'] = match_df['league_id'].replace(17642,'Portugal Liga ZON Sagres')\n",
    "match_df['league_id'] = match_df['league_id'].replace(19694,'Scotland Premier League')\n",
    "match_df['league_id'] = match_df['league_id'].replace(21518,'Spain LIGA BBVA')\n",
    "match_df['league_id'] = match_df['league_id'].replace(24558,'Switzerland Super League')\n",
    "match_df = match_df.rename(columns={\"league_id\": \"League_Name\"})\n",
    "match_df['date'] = pd.to_datetime(match_df['date'], format='%Y/%m/%d %H:%M:%S')\n",
    "#match_df.head()\n",
    "#Lesa na2es feeh shwayet hagat"
   ]
  },
  {
   "cell_type": "markdown",
   "metadata": {},
   "source": [
    "### Cleaning the Player Attributes Dataframe"
   ]
  },
  {
   "cell_type": "code",
   "execution_count": null,
   "metadata": {},
   "outputs": [],
   "source": [
    "#playerAttributes_df.head(10)"
   ]
  },
  {
   "cell_type": "code",
   "execution_count": null,
   "metadata": {},
   "outputs": [],
   "source": [
    "print('The number of rows before removing duplicates: ' + str(playerAttributes_df.shape[0]))\n",
    "duplicateRowsPlayerAttributesDF = playerAttributes_df[playerAttributes_df.duplicated(['player_fifa_api_id', 'player_api_id'])]\n",
    "duplicatePercentage = (duplicateRowsPlayerAttributesDF.shape[0]/playerAttributes_df.shape[0]) * 100\n",
    "print('The percentage of duplicated rows: ' + str(duplicatePercentage))"
   ]
  },
  {
   "cell_type": "code",
   "execution_count": null,
   "metadata": {},
   "outputs": [],
   "source": [
    "playerAttributes_df_1 = playerAttributes_df.sort_values('date').drop_duplicates(['player_fifa_api_id', 'player_api_id'],keep='last')\n",
    "playerAttributes_df_1 = playerAttributes_df_1.sort_values('id')\n",
    "print('The number of rows after removing duplicates: ' + str(playerAttributes_df_1.shape[0]))\n",
    "percentageLeft = (playerAttributes_df_1.shape[0]/playerAttributes_df.shape[0]) * 100\n",
    "print('The percentage of rows left: ' + str(percentageLeft))\n",
    "#playerAttributes_df_1.head(10)"
   ]
  },
  {
   "cell_type": "code",
   "execution_count": null,
   "metadata": {},
   "outputs": [],
   "source": [
    "# get the number of missing values per column\n",
    "missing_values_count_playerAttributes = playerAttributes_df_1.isnull().sum()\n",
    "\n",
    "#print(missing_values_count_playerAttributes)\n",
    "\n",
    "total_cells_playerAttributes = np.product(playerAttributes_df_1.shape) \n",
    "total_missing_playerAttributes = missing_values_count_playerAttributes.sum()\n",
    "\n",
    "# percentage of data that is missing\n",
    "percentage_missign_values_playerAttributes = (total_missing_playerAttributes/total_cells_playerAttributes) * 100\n",
    "#print('Percentage of missing values: '+ str(percentage_missign_values_playerAttributes))"
   ]
  },
  {
   "cell_type": "code",
   "execution_count": null,
   "metadata": {},
   "outputs": [],
   "source": [
    "rows_with_missing_values = playerAttributes_df_1[playerAttributes_df_1.isna().any(axis=1)]\n",
    "print('Percentage of rows with missing values: '+ str((rows_with_missing_values.shape[0]/playerAttributes_df_1.shape[0])*100))"
   ]
  },
  {
   "cell_type": "code",
   "execution_count": null,
   "metadata": {},
   "outputs": [],
   "source": [
    "# merge with player_df to search on the internet for missing values with player names\n",
    "df2 = pd.merge(player_df,playerAttributes_df_1,on=['player_api_id','player_fifa_api_id'])\n",
    "# sort and get the percentage of old players having NaNs\n",
    "rows_with_null_sorted = df2[df2.isna().any(axis=1)].sort_values('birthday')\n",
    "end_date = pd.Timestamp(datetime.date(1980,1,1))\n",
    "rows_with_null_sorted['birthday'] = pd.to_datetime(rows_with_null_sorted['birthday'])\n",
    "mask = rows_with_null_sorted['birthday'] <= end_date\n",
    "old_players = rows_with_null_sorted.loc[mask]\n",
    "#old_players"
   ]
  },
  {
   "cell_type": "code",
   "execution_count": null,
   "metadata": {},
   "outputs": [],
   "source": [
    "rows_with_missing_values_old_players = old_players[old_players.isna().any(axis=1)]\n",
    "print('Percentage of rows of old players with missing values: '+ str((rows_with_missing_values_old_players.shape[0]/playerAttributes_df_1.shape[0])*100))"
   ]
  },
  {
   "cell_type": "code",
   "execution_count": null,
   "metadata": {},
   "outputs": [],
   "source": [
    "playerAttributes_df_1 = playerAttributes_df_1.dropna()\n",
    "#playerAttributes_df_1"
   ]
  },
  {
   "cell_type": "code",
   "execution_count": null,
   "metadata": {},
   "outputs": [],
   "source": [
    "missing_values_count_playerAttributes = playerAttributes_df_1.isnull().sum()\n",
    "#print(missing_values_count_playerAttributes)"
   ]
  },
  {
   "cell_type": "code",
   "execution_count": null,
   "metadata": {},
   "outputs": [],
   "source": [
    "playerAttributes_df_1 = playerAttributes_df_1.rename(columns={\"date\": \"date_modified\"})\n",
    "#playerAttributes_df_1"
   ]
  },
  {
   "cell_type": "code",
   "execution_count": 14,
   "metadata": {},
   "outputs": [],
   "source": [
    "pd.set_option('display.max_rows', 800)\n",
    "pd.set_option('display.max_columns', 116)"
   ]
  },
  {
   "cell_type": "markdown",
   "metadata": {},
   "source": [
    "### Cleaning the Home Players X1 to X11 Coordinates (1/2)\n",
    "Getting the missing X1 to X11 values from the complete records of the home teams in the table"
   ]
  },
  {
   "cell_type": "code",
   "execution_count": 6,
   "metadata": {},
   "outputs": [],
   "source": [
    "for n in range(8,16):\n",
    "    for m in range(1,12):\n",
    "        if n < 10:\n",
    "            home_players_df = match_df[(match_df['season'] == '200'+str(n)+'/'+'200'+str(n+1))]\n",
    "        else:\n",
    "            home_players_df = match_df[(match_df['season'] == '20'+str(n)+'/'+'20'+str(n+1))]\n",
    "        \n",
    "        home_players_df = home_players_df.dropna(subset = ['home_player_X'+str(m)])\n",
    "        home_player_X_rows = match_df[match_df['home_player_X'+str(m)].isnull()]\n",
    "        if n < 10:\n",
    "            home_player_X_rows = home_player_X_rows[home_player_X_rows['season'] == '200'+str(n)+'/'+'200'+str(n+1)]\n",
    "        else:\n",
    "            home_player_X_rows = home_player_X_rows[home_player_X_rows['season'] == '20'+str(n)+'/'+'20'+str(n+1)]\n",
    "        \n",
    "        home_player_X_rows = home_player_X_rows.reset_index()\n",
    "\n",
    "        for i in range(0, home_player_X_rows.shape[0]):\n",
    "            return_rows = home_players_df[home_players_df['home_team_api_id'] == home_player_X_rows['home_team_api_id'][i]]\n",
    "            \n",
    "            if return_rows.size != 0:\n",
    "                X_Player = return_rows['home_player_X'+str(m)].head(1)\n",
    "                null_X_rows = match_df[(match_df['home_team_api_id'] == home_player_X_rows['home_team_api_id'][i])]\n",
    "                null_X_rows = null_X_rows[null_X_rows['home_player_X'+str(m)].isnull()]\n",
    "                \n",
    "                if n < 10:\n",
    "                    null_X_rows = null_X_rows[null_X_rows['season'] == '200'+str(n)+'/'+'200'+str(n+1)]\n",
    "                else:\n",
    "                    null_X_rows = null_X_rows[null_X_rows['season'] == '20'+str(n)+'/'+'20'+str(n+1)]\n",
    "                    \n",
    "                indices = []\n",
    "                for j in range(0, null_X_rows.shape[0]):\n",
    "                    indices.append(null_X_rows.index[j])\n",
    "                for k in range(0, len(indices)):\n",
    "                    index = match_df.index[indices[k]]\n",
    "                    match_df.at[index, 'home_player_X'+str(m)] = int(X_Player[X_Player.index[0]])"
   ]
  },
  {
   "cell_type": "markdown",
   "metadata": {},
   "source": [
    "### Cleaning the Home Players X1 to X11 Coordinates (2/2)\n",
    "Getting the missing X1 to X11 values from the complete records of the away teams in the table"
   ]
  },
  {
   "cell_type": "code",
   "execution_count": 19,
   "metadata": {},
   "outputs": [],
   "source": [
    "for n in range(8,16):\n",
    "    for m in range(1,12):\n",
    "        if n < 10:\n",
    "            home_players_df = match_df[(match_df['season'] == '200'+str(n)+'/'+'200'+str(n+1))]\n",
    "        else:\n",
    "            home_players_df = match_df[(match_df['season'] == '20'+str(n)+'/'+'20'+str(n+1))]\n",
    "        \n",
    "        home_players_df = home_players_df.dropna(subset = ['away_player_X'+str(m)])\n",
    "        home_player_X_rows = match_df[match_df['home_player_X'+str(m)].isnull()]\n",
    "        if n < 10:\n",
    "            home_player_X_rows = home_player_X_rows[home_player_X_rows['season'] == '200'+str(n)+'/'+'200'+str(n+1)]\n",
    "        else:\n",
    "            home_player_X_rows = home_player_X_rows[home_player_X_rows['season'] == '20'+str(n)+'/'+'20'+str(n+1)]\n",
    "        \n",
    "        home_player_X_rows = home_player_X_rows.reset_index()\n",
    "\n",
    "        for i in range(0, home_player_X_rows.shape[0]):\n",
    "            return_rows = home_players_df[home_players_df['away_team_api_id'] == home_player_X_rows['home_team_api_id'][i]]\n",
    "            \n",
    "            if return_rows.size != 0:\n",
    "                X_Player = return_rows['away_player_X'+str(m)].head(1)\n",
    "                null_X_rows = match_df[(match_df['away_team_api_id'] == home_player_X_rows['home_team_api_id'][i])]\n",
    "                null_X_rows = null_X_rows[null_X_rows['home_player_X'+str(m)].isnull()]\n",
    "                \n",
    "                if n < 10:\n",
    "                    null_X_rows = null_X_rows[null_X_rows['season'] == '200'+str(n)+'/'+'200'+str(n+1)]\n",
    "                else:\n",
    "                    null_X_rows = null_X_rows[null_X_rows['season'] == '20'+str(n)+'/'+'20'+str(n+1)]\n",
    "                    \n",
    "                indices = []\n",
    "                for j in range(0, null_X_rows.shape[0]):\n",
    "                    indices.append(null_X_rows.index[j])\n",
    "                for k in range(0, len(indices)):\n",
    "                    index = match_df.index[indices[k]]\n",
    "                    match_df.at[index, 'home_player_X'+str(m)] = int(X_Player[X_Player.index[0]])"
   ]
  },
  {
   "cell_type": "markdown",
   "metadata": {},
   "source": [
    "### Cleaning the Home Players Y1 to Y11 Coordinates (1/2)\n",
    "Getting the missing Y1 to Y11 values from the complete records of the home teams in the table"
   ]
  },
  {
   "cell_type": "code",
   "execution_count": 7,
   "metadata": {},
   "outputs": [],
   "source": [
    "for n in range(8,16):\n",
    "    for m in range(1,12):\n",
    "        if n < 10:\n",
    "            home_players_df = match_df[(match_df['season'] == '200'+str(n)+'/'+'200'+str(n+1))]\n",
    "        else:\n",
    "            home_players_df = match_df[(match_df['season'] == '20'+str(n)+'/'+'20'+str(n+1))]\n",
    "        \n",
    "        home_players_df = home_players_df.dropna(subset = ['home_player_Y'+str(m)])\n",
    "        home_player_Y_rows = match_df[match_df['home_player_Y'+str(m)].isnull()]\n",
    "        if n < 10:\n",
    "            home_player_Y_rows = home_player_Y_rows[home_player_Y_rows['season'] == '200'+str(n)+'/'+'200'+str(n+1)]\n",
    "        else:\n",
    "            home_player_Y_rows = home_player_Y_rows[home_player_Y_rows['season'] == '20'+str(n)+'/'+'20'+str(n+1)]\n",
    "        \n",
    "        home_player_Y_rows = home_player_Y_rows.reset_index()\n",
    "\n",
    "        for i in range(0, home_player_Y_rows.shape[0]):\n",
    "            return_rows = home_players_df[home_players_df['home_team_api_id'] == home_player_Y_rows['home_team_api_id'][i]]\n",
    "            \n",
    "            if return_rows.size != 0:\n",
    "                Y_Player = return_rows['home_player_Y'+str(m)].head(1)\n",
    "                null_Y_rows = match_df[(match_df['home_team_api_id'] == home_player_Y_rows['home_team_api_id'][i])]\n",
    "                null_Y_rows = null_Y_rows[null_Y_rows['home_player_Y'+str(m)].isnull()]\n",
    "                \n",
    "                if n < 10:\n",
    "                    null_Y_rows = null_Y_rows[null_Y_rows['season'] == '200'+str(n)+'/'+'200'+str(n+1)]\n",
    "                else:\n",
    "                    null_Y_rows = null_Y_rows[null_Y_rows['season'] == '20'+str(n)+'/'+'20'+str(n+1)]\n",
    "                    \n",
    "                indices = []\n",
    "                for j in range(0, null_Y_rows.shape[0]):\n",
    "                    indices.append(null_Y_rows.index[j])\n",
    "                for k in range(0, len(indices)):\n",
    "                    index = match_df.index[indices[k]]\n",
    "                    match_df.at[index, 'home_player_Y'+str(m)] = int(Y_Player[Y_Player.index[0]])"
   ]
  },
  {
   "cell_type": "markdown",
   "metadata": {},
   "source": [
    "### Cleaning the Home Players Y1 to Y11 Coordinates (2/2)\n",
    "Getting the missing Y1 to Y11 values from the complete records of the away teams in the table"
   ]
  },
  {
   "cell_type": "code",
   "execution_count": 21,
   "metadata": {},
   "outputs": [],
   "source": [
    "for n in range(8,16):\n",
    "    for m in range(1,12):\n",
    "        if n < 10:\n",
    "            home_players_df = match_df[(match_df['season'] == '200'+str(n)+'/'+'200'+str(n+1))]\n",
    "        else:\n",
    "            home_players_df = match_df[(match_df['season'] == '20'+str(n)+'/'+'20'+str(n+1))]\n",
    "        \n",
    "        home_players_df = home_players_df.dropna(subset = ['away_player_Y'+str(m)])\n",
    "        home_player_Y_rows = match_df[match_df['home_player_Y'+str(m)].isnull()]\n",
    "        if n < 10:\n",
    "            home_player_Y_rows = home_player_Y_rows[home_player_Y_rows['season'] == '200'+str(n)+'/'+'200'+str(n+1)]\n",
    "        else:\n",
    "            home_player_Y_rows = home_player_Y_rows[home_player_Y_rows['season'] == '20'+str(n)+'/'+'20'+str(n+1)]\n",
    "        \n",
    "        home_player_Y_rows = home_player_Y_rows.reset_index()\n",
    "\n",
    "        for i in range(0, home_player_Y_rows.shape[0]):\n",
    "            return_rows = home_players_df[home_players_df['away_team_api_id'] == home_player_Y_rows['home_team_api_id'][i]]\n",
    "            \n",
    "            if return_rows.size != 0:\n",
    "                Y_Player = return_rows['away_player_Y'+str(m)].head(1)\n",
    "                null_Y_rows = match_df[(match_df['away_team_api_id'] == home_player_Y_rows['home_team_api_id'][i])]\n",
    "                null_Y_rows = null_Y_rows[null_Y_rows['home_player_Y'+str(m)].isnull()]\n",
    "                \n",
    "                if n < 10:\n",
    "                    null_Y_rows = null_Y_rows[null_Y_rows['season'] == '200'+str(n)+'/'+'200'+str(n+1)]\n",
    "                else:\n",
    "                    null_Y_rows = null_Y_rows[null_Y_rows['season'] == '20'+str(n)+'/'+'20'+str(n+1)]\n",
    "                    \n",
    "                indices = []\n",
    "                for j in range(0, null_Y_rows.shape[0]):\n",
    "                    indices.append(null_Y_rows.index[j])\n",
    "                for k in range(0, len(indices)):\n",
    "                    index = match_df.index[indices[k]]\n",
    "                    match_df.at[index, 'home_player_Y'+str(m)] = int(Y_Player[Y_Player.index[0]])"
   ]
  },
  {
   "cell_type": "markdown",
   "metadata": {},
   "source": [
    "### Cleaning the Away Players X1 to X11 Coordinates (1/2)\n",
    "Getting the missing X1 to X11 values from the complete records of the away teams in the table"
   ]
  },
  {
   "cell_type": "code",
   "execution_count": 8,
   "metadata": {},
   "outputs": [],
   "source": [
    "for n in range(8,16):\n",
    "    for m in range(1,12):\n",
    "        if n < 10:\n",
    "            away_players_df = match_df[(match_df['season'] == '200'+str(n)+'/'+'200'+str(n+1))]\n",
    "        else:\n",
    "            away_players_df = match_df[(match_df['season'] == '20'+str(n)+'/'+'20'+str(n+1))]\n",
    "        \n",
    "        away_players_df = away_players_df.dropna(subset = ['away_player_X'+str(m)])\n",
    "\n",
    "        away_player_X_rows = match_df[match_df['away_player_X'+str(m)].isnull()]\n",
    "        if n < 10:\n",
    "            away_player_X_rows = away_player_X_rows[away_player_X_rows['season'] == '200'+str(n)+'/'+'200'+str(n+1)]\n",
    "        else:\n",
    "            away_player_X_rows = away_player_X_rows[away_player_X_rows['season'] == '20'+str(n)+'/'+'20'+str(n+1)]\n",
    "        \n",
    "        away_player_X_rows = away_player_X_rows.reset_index()\n",
    "\n",
    "        for i in range(0, away_player_X_rows.shape[0]):\n",
    "            return_rows = away_players_df[away_players_df['away_team_api_id'] == away_player_X_rows['away_team_api_id'][i]]\n",
    "            \n",
    "            if return_rows.size != 0:\n",
    "                X_Player = return_rows['away_player_X'+str(m)].head(1)\n",
    "                null_X_rows = match_df[(match_df['away_team_api_id'] == away_player_X_rows['away_team_api_id'][i])]\n",
    "                null_X_rows = null_X_rows[null_X_rows['away_player_X'+str(m)].isnull()]\n",
    "                \n",
    "                if n < 10:\n",
    "                    null_X_rows = null_X_rows[null_X_rows['season'] == '200'+str(n)+'/'+'200'+str(n+1)]\n",
    "                else:\n",
    "                    null_X_rows = null_X_rows[null_X_rows['season'] == '20'+str(n)+'/'+'20'+str(n+1)]\n",
    "                    \n",
    "                indices = []\n",
    "                for j in range(0, null_X_rows.shape[0]):\n",
    "                    indices.append(null_X_rows.index[j])\n",
    "                for k in range(0, len(indices)):\n",
    "                    index = match_df.index[indices[k]]\n",
    "                    match_df.at[index, 'away_player_X'+str(m)] = int(X_Player[X_Player.index[0]])"
   ]
  },
  {
   "cell_type": "markdown",
   "metadata": {},
   "source": [
    "### Cleaning the Away Players X1 to X11 Coordinates (2/2)\n",
    "Getting the missing X1 to X11 values from the complete records of the home teams in the table"
   ]
  },
  {
   "cell_type": "code",
   "execution_count": 22,
   "metadata": {},
   "outputs": [],
   "source": [
    "for n in range(8,16):\n",
    "    for m in range(1,12):\n",
    "        if n < 10:\n",
    "            away_players_df = match_df[(match_df['season'] == '200'+str(n)+'/'+'200'+str(n+1))]\n",
    "        else:\n",
    "            away_players_df = match_df[(match_df['season'] == '20'+str(n)+'/'+'20'+str(n+1))]\n",
    "        \n",
    "        away_players_df = away_players_df.dropna(subset = ['home_player_X'+str(m)])\n",
    "        away_player_X_rows = match_df[match_df['away_player_X'+str(m)].isnull()]\n",
    "        if n < 10:\n",
    "            away_player_X_rows = away_player_X_rows[away_player_X_rows['season'] == '200'+str(n)+'/'+'200'+str(n+1)]\n",
    "        else:\n",
    "            away_player_X_rows = away_player_X_rows[away_player_X_rows['season'] == '20'+str(n)+'/'+'20'+str(n+1)]\n",
    "        \n",
    "        away_player_X_rows = away_player_X_rows.reset_index()\n",
    "\n",
    "        for i in range(0, away_player_X_rows.shape[0]):\n",
    "            return_rows = away_players_df[away_players_df['home_team_api_id'] == away_player_X_rows['away_team_api_id'][i]]\n",
    "            \n",
    "            if return_rows.size != 0:\n",
    "                X_Player = return_rows['home_player_X'+str(m)].head(1)\n",
    "                null_X_rows = match_df[(match_df['home_team_api_id'] == away_player_X_rows['away_team_api_id'][i])]\n",
    "                null_X_rows = null_X_rows[null_X_rows['away_player_X'+str(m)].isnull()]\n",
    "                \n",
    "                if n < 10:\n",
    "                    null_X_rows = null_X_rows[null_X_rows['season'] == '200'+str(n)+'/'+'200'+str(n+1)]\n",
    "                else:\n",
    "                    null_X_rows = null_X_rows[null_X_rows['season'] == '20'+str(n)+'/'+'20'+str(n+1)]\n",
    "                    \n",
    "                indices = []\n",
    "                for j in range(0, null_X_rows.shape[0]):\n",
    "                    indices.append(null_X_rows.index[j])\n",
    "                for k in range(0, len(indices)):\n",
    "                    index = match_df.index[indices[k]]\n",
    "                    match_df.at[index, 'away_player_X'+str(m)] = int(X_Player[X_Player.index[0]])"
   ]
  },
  {
   "cell_type": "markdown",
   "metadata": {},
   "source": [
    "### Cleaning the Away Players Y1 to Y11 Coordinates (1/2)\n",
    "Getting the missing Y1 to Y11 values from the complete records of the away teams in the table"
   ]
  },
  {
   "cell_type": "code",
   "execution_count": 9,
   "metadata": {},
   "outputs": [],
   "source": [
    "for n in range(8,16):\n",
    "    for m in range(1,12):\n",
    "        if n < 10:\n",
    "            away_players_df = match_df[(match_df['season'] == '200'+str(n)+'/'+'200'+str(n+1))]\n",
    "        else:\n",
    "            away_players_df = match_df[(match_df['season'] == '20'+str(n)+'/'+'20'+str(n+1))]\n",
    "        \n",
    "        away_players_df = away_players_df.dropna(subset = ['away_player_Y'+str(m)])\n",
    "\n",
    "        away_player_Y_rows = match_df[match_df['away_player_Y'+str(m)].isnull()]\n",
    "        if n < 10:\n",
    "            away_player_Y_rows = away_player_Y_rows[away_player_Y_rows['season'] == '200'+str(n)+'/'+'200'+str(n+1)]\n",
    "        else:\n",
    "            away_player_Y_rows = away_player_Y_rows[away_player_Y_rows['season'] == '20'+str(n)+'/'+'20'+str(n+1)]\n",
    "        \n",
    "        away_player_Y_rows = away_player_Y_rows.reset_index()\n",
    "\n",
    "        for i in range(0, away_player_Y_rows.shape[0]):\n",
    "            return_rows = away_players_df[away_players_df['away_team_api_id'] == away_player_Y_rows['away_team_api_id'][i]]\n",
    "            \n",
    "            if return_rows.size != 0:\n",
    "                Y_Player = return_rows['away_player_Y'+str(m)].head(1)\n",
    "                null_Y_rows = match_df[(match_df['away_team_api_id'] == away_player_Y_rows['away_team_api_id'][i])]\n",
    "                null_Y_rows = null_Y_rows[null_Y_rows['away_player_Y'+str(m)].isnull()]\n",
    "                \n",
    "                if n < 10:\n",
    "                    null_Y_rows = null_Y_rows[null_Y_rows['season'] == '200'+str(n)+'/'+'200'+str(n+1)]\n",
    "                else:\n",
    "                    null_Y_rows = null_Y_rows[null_Y_rows['season'] == '20'+str(n)+'/'+'20'+str(n+1)]\n",
    "                    \n",
    "                indices = []\n",
    "                for j in range(0, null_Y_rows.shape[0]):\n",
    "                    indices.append(null_Y_rows.index[j])\n",
    "                for k in range(0, len(indices)):\n",
    "                    index = match_df.index[indices[k]]\n",
    "                    match_df.at[index, 'away_player_Y'+str(m)] = int(Y_Player[Y_Player.index[0]])"
   ]
  },
  {
   "cell_type": "markdown",
   "metadata": {},
   "source": [
    "### Cleaning the Away Players Y1 to Y11 Coordinates (2/2)\n",
    "Getting the missing Y1 to Y11 values from the complete records of the home teams in the table"
   ]
  },
  {
   "cell_type": "code",
   "execution_count": 23,
   "metadata": {},
   "outputs": [],
   "source": [
    "for n in range(8,16):\n",
    "    for m in range(1,12):\n",
    "        if n < 10:\n",
    "            away_players_df = match_df[(match_df['season'] == '200'+str(n)+'/'+'200'+str(n+1))]\n",
    "        else:\n",
    "            away_players_df = match_df[(match_df['season'] == '20'+str(n)+'/'+'20'+str(n+1))]\n",
    "        \n",
    "        away_players_df = away_players_df.dropna(subset = ['home_player_Y'+str(m)])\n",
    "        away_player_Y_rows = match_df[match_df['away_player_Y'+str(m)].isnull()]\n",
    "        if n < 10:\n",
    "            away_player_Y_rows = away_player_Y_rows[away_player_Y_rows['season'] == '200'+str(n)+'/'+'200'+str(n+1)]\n",
    "        else:\n",
    "            away_player_Y_rows = away_player_Y_rows[away_player_Y_rows['season'] == '20'+str(n)+'/'+'20'+str(n+1)]\n",
    "        \n",
    "        away_player_Y_rows = away_player_Y_rows.reset_index()\n",
    "\n",
    "        for i in range(0, away_player_Y_rows.shape[0]):\n",
    "            return_rows = away_players_df[away_players_df['home_team_api_id'] == away_player_Y_rows['away_team_api_id'][i]]\n",
    "            \n",
    "            if return_rows.size != 0:\n",
    "                Y_Player = return_rows['home_player_Y'+str(m)].head(1)\n",
    "                null_Y_rows = match_df[(match_df['home_team_api_id'] == away_player_Y_rows['away_team_api_id'][i])]\n",
    "                null_Y_rows = null_Y_rows[null_Y_rows['away_player_Y'+str(m)].isnull()]\n",
    "                \n",
    "                if n < 10:\n",
    "                    null_Y_rows = null_Y_rows[null_Y_rows['season'] == '200'+str(n)+'/'+'200'+str(n+1)]\n",
    "                else:\n",
    "                    null_Y_rows = null_Y_rows[null_Y_rows['season'] == '20'+str(n)+'/'+'20'+str(n+1)]\n",
    "                    \n",
    "                indices = []\n",
    "                for j in range(0, null_Y_rows.shape[0]):\n",
    "                    indices.append(null_Y_rows.index[j])\n",
    "                for k in range(0, len(indices)):\n",
    "                    index = match_df.index[indices[k]]\n",
    "                    match_df.at[index, 'away_player_Y'+str(m)] = int(Y_Player[Y_Player.index[0]])"
   ]
  },
  {
   "cell_type": "markdown",
   "metadata": {},
   "source": [
    "### Cleaning the Home Players Columns (1/2)\n",
    "Getting the missing home player 1 to 11 values from the complete records of the home teams in the table"
   ]
  },
  {
   "cell_type": "code",
   "execution_count": 10,
   "metadata": {},
   "outputs": [],
   "source": [
    "for n in range(8,16):\n",
    "    for m in range(1,12):\n",
    "        if n < 10:\n",
    "            home_players_df = match_df[(match_df['season'] == '200'+str(n)+'/'+'200'+str(n+1))]\n",
    "        else:\n",
    "            home_players_df = match_df[(match_df['season'] == '20'+str(n)+'/'+'20'+str(n+1))]\n",
    "        \n",
    "        home_players_df = home_players_df.dropna(subset = ['home_player_'+str(m)])\n",
    "\n",
    "        home_player_rows = match_df[match_df['home_player_'+str(m)].isnull()]\n",
    "        if n < 10:\n",
    "            home_player_rows = home_player_rows[home_player_rows['season'] == '200'+str(n)+'/'+'200'+str(n+1)]\n",
    "        else:\n",
    "            home_player_rows = home_player_rows[home_player_rows['season'] == '20'+str(n)+'/'+'20'+str(n+1)]\n",
    "        \n",
    "        home_player_rows = home_player_rows.reset_index()\n",
    "\n",
    "        for i in range(0, home_player_rows.shape[0]):\n",
    "            return_rows = home_players_df[home_players_df['home_team_api_id'] == home_player_rows['home_team_api_id'][i]]\n",
    "            \n",
    "            if return_rows.size != 0:\n",
    "                Player = return_rows['home_player_'+str(m)].head(1)\n",
    "                null_rows = match_df[(match_df['home_team_api_id'] == home_player_rows['home_team_api_id'][i])]\n",
    "                null_rows = null_rows[null_rows['home_player_'+str(m)].isnull()]\n",
    "                \n",
    "                if n < 10:\n",
    "                    null_rows = null_rows[null_rows['season'] == '200'+str(n)+'/'+'200'+str(n+1)]\n",
    "                else:\n",
    "                    null_rows = null_rows[null_rows['season'] == '20'+str(n)+'/'+'20'+str(n+1)]\n",
    "                    \n",
    "                indices = []\n",
    "                for j in range(0, null_rows.shape[0]):\n",
    "                    indices.append(null_rows.index[j])\n",
    "                for k in range(0, len(indices)):\n",
    "                    index = match_df.index[indices[k]]\n",
    "                    match_df.at[index, 'home_player_'+str(m)] = int(Player[Player.index[0]])"
   ]
  },
  {
   "cell_type": "markdown",
   "metadata": {},
   "source": [
    "### Cleaning the Home Players Columns (2/2)\n",
    "Getting the missing home player 1 to 11 values from the complete records of the away teams in the table"
   ]
  },
  {
   "cell_type": "code",
   "execution_count": null,
   "metadata": {},
   "outputs": [],
   "source": [
    "for n in range(8,16):\n",
    "    for m in range(1,12):\n",
    "        if n < 10:\n",
    "            home_players_df = match_df[(match_df['season'] == '200'+str(n)+'/'+'200'+str(n+1))]\n",
    "        else:\n",
    "            home_players_df = match_df[(match_df['season'] == '20'+str(n)+'/'+'20'+str(n+1))]\n",
    "        \n",
    "        home_players_df = home_players_df.dropna(subset = ['away_player_'+str(m)])\n",
    "\n",
    "        home_player_rows = match_df[match_df['home_player_'+str(m)].isnull()]\n",
    "        if n < 10:\n",
    "            home_player_rows = home_player_rows[home_player_rows['season'] == '200'+str(n)+'/'+'200'+str(n+1)]\n",
    "        else:\n",
    "            home_player_rows = home_player_rows[home_player_rows['season'] == '20'+str(n)+'/'+'20'+str(n+1)]\n",
    "        \n",
    "        home_player_rows = home_player_rows.reset_index()\n",
    "\n",
    "        for i in range(0, home_player_rows.shape[0]):\n",
    "            return_rows = home_players_df[home_players_df['away_team_api_id'] == home_player_rows['home_team_api_id'][i]]\n",
    "            \n",
    "            if return_rows.size != 0:\n",
    "                Player = return_rows['away_player_'+str(m)].head(1)\n",
    "                null_rows = match_df[(match_df['away_team_api_id'] == home_player_rows['home_team_api_id'][i])]\n",
    "                null_rows = null_rows[null_rows['home_player_'+str(m)].isnull()]\n",
    "                \n",
    "                if n < 10:\n",
    "                    null_rows = null_rows[null_rows['season'] == '200'+str(n)+'/'+'200'+str(n+1)]\n",
    "                else:\n",
    "                    null_rows = null_rows[null_rows['season'] == '20'+str(n)+'/'+'20'+str(n+1)]\n",
    "                    \n",
    "                indices = []\n",
    "                for j in range(0, null_rows.shape[0]):\n",
    "                    indices.append(null_rows.index[j])\n",
    "                for k in range(0, len(indices)):\n",
    "                    index = match_df.index[indices[k]]\n",
    "                    match_df.at[index, 'home_player_'+str(m)] = int(Player[Player.index[0]])"
   ]
  },
  {
   "cell_type": "markdown",
   "metadata": {},
   "source": [
    "### Cleaning the Away Players Columns (1/2)\n",
    "Getting the missing away player 1 to 11 values from the complete records of the away teams in the table"
   ]
  },
  {
   "cell_type": "code",
   "execution_count": 11,
   "metadata": {},
   "outputs": [],
   "source": [
    "for n in range(8,16):\n",
    "    for m in range(1,12):\n",
    "        if n < 10:\n",
    "            away_players_df = match_df[(match_df['season'] == '200'+str(n)+'/'+'200'+str(n+1))]\n",
    "        else:\n",
    "            away_players_df = match_df[(match_df['season'] == '20'+str(n)+'/'+'20'+str(n+1))]\n",
    "        \n",
    "        away_players_df = away_players_df.dropna(subset = ['away_player_'+str(m)])\n",
    "\n",
    "        away_player_rows = match_df[match_df['away_player_'+str(m)].isnull()]\n",
    "        if n < 10:\n",
    "            away_player_rows = away_player_rows[away_player_rows['season'] == '200'+str(n)+'/'+'200'+str(n+1)]\n",
    "        else:\n",
    "            away_player_rows = away_player_rows[away_player_rows['season'] == '20'+str(n)+'/'+'20'+str(n+1)]\n",
    "        \n",
    "        away_player_rows = away_player_rows.reset_index()\n",
    "\n",
    "        for i in range(0, away_player_rows.shape[0]):\n",
    "            return_rows = away_players_df[away_players_df['away_team_api_id'] == away_player_rows['away_team_api_id'][i]]\n",
    "            \n",
    "            if return_rows.size != 0:\n",
    "                Player = return_rows['away_player_'+str(m)].head(1)\n",
    "                null_rows = match_df[(match_df['away_team_api_id'] == away_player_rows['away_team_api_id'][i])]\n",
    "                null_rows = null_rows[null_rows['away_player_'+str(m)].isnull()]\n",
    "                \n",
    "                if n < 10:\n",
    "                    null_rows = null_rows[null_rows['season'] == '200'+str(n)+'/'+'200'+str(n+1)]\n",
    "                else:\n",
    "                    null_rows = null_rows[null_rows['season'] == '20'+str(n)+'/'+'20'+str(n+1)]\n",
    "                    \n",
    "                indices = []\n",
    "                for j in range(0, null_rows.shape[0]):\n",
    "                    indices.append(null_rows.index[j])\n",
    "                for k in range(0, len(indices)):\n",
    "                    index = match_df.index[indices[k]]\n",
    "                    match_df.at[index, 'away_player_'+str(m)] = int(Player[Player.index[0]])"
   ]
  },
  {
   "cell_type": "markdown",
   "metadata": {},
   "source": [
    "### Cleaning the Away Players Columns (2/2)\n",
    "Getting the missing away player 1 to 11 values from the complete records of the home teams in the table"
   ]
  },
  {
   "cell_type": "code",
   "execution_count": 25,
   "metadata": {},
   "outputs": [],
   "source": [
    "for n in range(8,16):\n",
    "    for m in range(1,12):\n",
    "        if n < 10:\n",
    "            away_players_df = match_df[(match_df['season'] == '200'+str(n)+'/'+'200'+str(n+1))]\n",
    "        else:\n",
    "            away_players_df = match_df[(match_df['season'] == '20'+str(n)+'/'+'20'+str(n+1))]\n",
    "        \n",
    "        away_players_df = away_players_df.dropna(subset = ['home_player_'+str(m)])\n",
    "\n",
    "        away_player_rows = match_df[match_df['away_player_'+str(m)].isnull()]\n",
    "        if n < 10:\n",
    "            away_player_rows = away_player_rows[away_player_rows['season'] == '200'+str(n)+'/'+'200'+str(n+1)]\n",
    "        else:\n",
    "            away_player_rows = away_player_rows[away_player_rows['season'] == '20'+str(n)+'/'+'20'+str(n+1)]\n",
    "        \n",
    "        away_player_rows = away_player_rows.reset_index()\n",
    "\n",
    "        for i in range(0, away_player_rows.shape[0]):\n",
    "            return_rows = away_players_df[away_players_df['home_team_api_id'] == away_player_rows['away_team_api_id'][i]]\n",
    "            \n",
    "            if return_rows.size != 0:\n",
    "                Player = return_rows['home_player_'+str(m)].head(1)\n",
    "                null_rows = match_df[(match_df['home_team_api_id'] == away_player_rows['away_team_api_id'][i])]\n",
    "                null_rows = null_rows[null_rows['away_player_'+str(m)].isnull()]\n",
    "                \n",
    "                if n < 10:\n",
    "                    null_rows = null_rows[null_rows['season'] == '200'+str(n)+'/'+'200'+str(n+1)]\n",
    "                else:\n",
    "                    null_rows = null_rows[null_rows['season'] == '20'+str(n)+'/'+'20'+str(n+1)]\n",
    "                    \n",
    "                indices = []\n",
    "                for j in range(0, null_rows.shape[0]):\n",
    "                    indices.append(null_rows.index[j])\n",
    "                for k in range(0, len(indices)):\n",
    "                    index = match_df.index[indices[k]]\n",
    "                    match_df.at[index, 'away_player_'+str(m)] = int(Player[Player.index[0]])"
   ]
  },
  {
   "cell_type": "code",
   "execution_count": 27,
   "metadata": {},
   "outputs": [
    {
     "data": {
      "text/plain": [
       "Match_id                0\n",
       "Country_Name            0\n",
       "League_Name             0\n",
       "season                  0\n",
       "stage                   0\n",
       "date                    0\n",
       "match_api_id            0\n",
       "home_team_api_id        0\n",
       "away_team_api_id        0\n",
       "home_team_goal          0\n",
       "away_team_goal          0\n",
       "home_player_X1       1200\n",
       "home_player_X2       1200\n",
       "home_player_X3       1200\n",
       "home_player_X4       1200\n",
       "home_player_X5       1200\n",
       "home_player_X6       1200\n",
       "home_player_X7       1200\n",
       "home_player_X8       1200\n",
       "home_player_X9       1200\n",
       "home_player_X10      1200\n",
       "home_player_X11      1200\n",
       "away_player_X1       1200\n",
       "away_player_X2       1200\n",
       "away_player_X3       1200\n",
       "away_player_X4       1200\n",
       "away_player_X5       1200\n",
       "away_player_X6       1200\n",
       "away_player_X7       1200\n",
       "away_player_X8       1200\n",
       "away_player_X9       1200\n",
       "away_player_X10      1200\n",
       "away_player_X11      1200\n",
       "home_player_Y1       1200\n",
       "home_player_Y2       1200\n",
       "home_player_Y3       1200\n",
       "home_player_Y4       1200\n",
       "home_player_Y5       1200\n",
       "home_player_Y6       1200\n",
       "home_player_Y7       1200\n",
       "home_player_Y8       1200\n",
       "home_player_Y9       1200\n",
       "home_player_Y10      1200\n",
       "home_player_Y11      1200\n",
       "away_player_Y1       1200\n",
       "away_player_Y2       1200\n",
       "away_player_Y3       1200\n",
       "away_player_Y4       1200\n",
       "away_player_Y5       1200\n",
       "away_player_Y6       1200\n",
       "away_player_Y7       1200\n",
       "away_player_Y8       1200\n",
       "away_player_Y9       1200\n",
       "away_player_Y10      1200\n",
       "away_player_Y11      1200\n",
       "home_player_1         318\n",
       "home_player_2         343\n",
       "home_player_3         227\n",
       "home_player_4         209\n",
       "home_player_5         300\n",
       "home_player_6         268\n",
       "home_player_7         137\n",
       "home_player_8         165\n",
       "home_player_9         151\n",
       "home_player_10        218\n",
       "home_player_11        284\n",
       "away_player_1         338\n",
       "away_player_2         302\n",
       "away_player_3         205\n",
       "away_player_4         214\n",
       "away_player_5         244\n",
       "away_player_6         203\n",
       "away_player_7         137\n",
       "away_player_8         184\n",
       "away_player_9         175\n",
       "away_player_10        234\n",
       "away_player_11        299\n",
       "goal                11762\n",
       "shoton              11762\n",
       "shotoff             11762\n",
       "foulcommit          11762\n",
       "card                11762\n",
       "cross               11762\n",
       "corner              11762\n",
       "possession          11762\n",
       "B365H                3387\n",
       "B365D                3387\n",
       "B365A                3387\n",
       "BWH                  3404\n",
       "BWD                  3404\n",
       "BWA                  3404\n",
       "IWH                  3459\n",
       "IWD                  3459\n",
       "IWA                  3459\n",
       "LBH                  3423\n",
       "LBD                  3423\n",
       "LBA                  3423\n",
       "PSH                 14811\n",
       "PSD                 14811\n",
       "PSA                 14811\n",
       "WHH                  3408\n",
       "WHD                  3408\n",
       "WHA                  3408\n",
       "SJH                  8882\n",
       "SJD                  8882\n",
       "SJA                  8882\n",
       "VCH                  3411\n",
       "VCD                  3411\n",
       "VCA                  3411\n",
       "GBH                 11817\n",
       "GBD                 11817\n",
       "GBA                 11817\n",
       "BSH                 11818\n",
       "BSD                 11818\n",
       "BSA                 11818\n",
       "dtype: int64"
      ]
     },
     "execution_count": 27,
     "metadata": {},
     "output_type": "execute_result"
    }
   ],
   "source": [
    "match_df.isnull().sum()"
   ]
  },
  {
   "cell_type": "code",
   "execution_count": null,
   "metadata": {},
   "outputs": [],
   "source": []
  }
 ],
 "metadata": {
  "kernelspec": {
   "display_name": "Python 3",
   "language": "python",
   "name": "python3"
  },
  "language_info": {
   "codemirror_mode": {
    "name": "ipython",
    "version": 3
   },
   "file_extension": ".py",
   "mimetype": "text/x-python",
   "name": "python",
   "nbconvert_exporter": "python",
   "pygments_lexer": "ipython3",
   "version": "3.7.3"
  }
 },
 "nbformat": 4,
 "nbformat_minor": 2
}
